{
 "cells": [
  {
   "cell_type": "code",
   "execution_count": 3,
   "metadata": {},
   "outputs": [],
   "source": [
    "# set dependencies\n",
    "import os\n",
    "import csv\n",
    "import numpy as np\n",
    "import matplotlib.pyplot as plt\n",
    "import pandas as pd\n",
    "import requests\n",
    "import json\n",
    "import time\n",
    "import gmaps\n",
    "\n",
    "from pprint import pprint\n",
    "from scipy import stats\n",
    "from scipy.stats import linregress\n",
    "from citipy import citipy\n",
    "\n",
    "#from config import api_key"
   ]
  },
  {
   "cell_type": "code",
   "execution_count": 4,
   "metadata": {},
   "outputs": [],
   "source": [
    "# scatter plot function\n",
    "def sbc_plot_scatter(df,col1,col2,title,file):\n",
    "    x=df[col1].astype('float')\n",
    "    y=df[col2].astype('float')\n",
    "    (slope,intercept,rvalue,pvalue,stderr)=stats.linregress(x,y)\n",
    "    fit=x*slope+intercept\n",
    "    line='y = '+str(round(slope,2))+'x + '+str(round(intercept,2))\n",
    "    x_min=round(df[col1].min()/10)*10\n",
    "    x_max=(round(df[col1].max()/10)*10)+10\n",
    "    plt.xticks(np.arange(x_min,x_max,10))\n",
    "    plt.xlabel(col1)\n",
    "    plt.ylabel(col2)\n",
    "    plt.grid(b=True)\n",
    "    plt.scatter(x,y)\n",
    "    plt.title(title)\n",
    "    plt.plot(x,fit,color='red')\n",
    "    plt.annotate(line,(47,10),color='red',xycoords='figure pixels')\n",
    "    plt.annotate((f\"R squared: {round((rvalue**2),2)}\"),(299,10),color='red',xycoords='figure pixels')\n",
    "    plt.savefig(f'output/images/function_figs/{file}.png')\n",
    "    \n",
    "# how to call the function (I need to refine the function to make it easier to call but it works well enough for now)\n",
    "# sbc_plot_scatter(df_name,'<col1_header>','<col2_header>','<your title text>','<your output file name')\n",
    "#                  no quotes,rest use quotes"
   ]
  },
  {
   "cell_type": "code",
   "execution_count": 12,
   "metadata": {},
   "outputs": [
    {
     "data": {
      "text/plain": [
       "Unnamed: 0                                                             1205\n",
       "Year                      1970–711971–721970–71Jan. 17, 1971Jan. 28, 200...\n",
       "Winner                    Baltimore ColtsBaltimore ColtsBaltimore ColtsB...\n",
       "Winning Score                                                           148\n",
       "Losing Score                                                             71\n",
       "Score Differential                                                       77\n",
       "Overtime                                                                  0\n",
       "Field Goal or Less                                                        2\n",
       "Super Bowl Appearances                                                   12\n",
       "Division                                                 AFCAFCAFCAFCAFCAFC\n",
       "Game Rank                 playoffplayoffChampionshipSuper BowlSuper Bowl...\n",
       "Unnamed: 11                                                               0\n",
       "dtype: object"
      ]
     },
     "execution_count": 12,
     "metadata": {},
     "output_type": "execute_result"
    }
   ],
   "source": [
    "winners_data = \"dataFiles/Post_season_NFL_winners_1971_2021.csv\"\n",
    "winners_df = pd.read_csv(winners_data)\n",
    "winners_df.head(10)"
   ]
  },
  {
   "cell_type": "code",
   "execution_count": null,
   "metadata": {},
   "outputs": [],
   "source": [
    "winners_df"
   ]
  }
 ],
 "metadata": {
  "kernelspec": {
   "display_name": "Python 3",
   "language": "python",
   "name": "python3"
  },
  "language_info": {
   "codemirror_mode": {
    "name": "ipython",
    "version": 3
   },
   "file_extension": ".py",
   "mimetype": "text/x-python",
   "name": "python",
   "nbconvert_exporter": "python",
   "pygments_lexer": "ipython3",
   "version": "3.8.5"
  }
 },
 "nbformat": 4,
 "nbformat_minor": 4
}
