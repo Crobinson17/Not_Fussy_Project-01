{
 "cells": [
  {
   "cell_type": "code",
   "execution_count": 48,
   "metadata": {},
   "outputs": [],
   "source": [
    "# set dependencies\n",
    "import os\n",
    "import csv\n",
    "import numpy as np\n",
    "import matplotlib.pyplot as plt\n",
    "import pandas as pd\n",
    "import requests\n",
    "import json\n",
    "import time\n",
    "import gmaps\n",
    "\n",
    "from pprint import pprint\n",
    "from scipy import stats\n",
    "from scipy.stats import linregress\n",
    "from citipy import citipy\n",
    "\n",
    "# Set options\n",
    "pd.options.display.max_rows=601\n",
    "pd.set_option(\"precision\", 2)\n",
    "#from config import api_key"
   ]
  },
  {
   "cell_type": "code",
   "execution_count": 49,
   "metadata": {},
   "outputs": [],
   "source": [
    "# scatter plot function\n",
    "def sbc_plot_scatter(df,col1,col2,title,file):\n",
    "    x=df[col1].astype('float') # Key error is argument conflict\n",
    "    y=df[col2].astype('float') # Key error is argument conflict     \n",
    "    (slope,intercept,rvalue,pvalue,stderr)=stats.linregress(x,y)\n",
    "    fit=x*slope+intercept\n",
    "    line='y = '+str(round(slope,2))+'x + '+str(round(intercept,2))\n",
    "    x_min=round(df[col1].min()/10)*10 # key error\n",
    "    x_max=(round(df[col1].max()/10)*10)+10 # key error\n",
    "    plt.xticks(np.arange(x_min,x_max,10))\n",
    "    plt.xlabel(col1)\n",
    "    plt.ylabel(col2)\n",
    "    plt.grid(b=True)\n",
    "    plt.scatter(x,y)\n",
    "    plt.title(title)\n",
    "    plt.plot(x,fit,color='red')\n",
    "    plt.annotate(line,(47,10),color='red',xycoords='figure pixels')\n",
    "    plt.annotate((f\"R squared: {round((rvalue**2),2)}\"),(299,10),color='red',xycoords='figure pixels')\n",
    "    plt.savefig(f'dataFiles/output/{file}.png') # must conform to your local repo file path or get file or directory not found\n",
    "                                                # error\n",
    "    \n",
    "# how to call the function:\n",
    "# sbc_plot_scatter(df_name,'<col1_header>','<col2_header>','<your title text>','<your_output_file_name')\n",
    "#                  no quotes,rest use quotes-----------------------------------------------------------|\n",
    "# Key errors indicate the function call could not find the column in the dataframe\n",
    "# syntax errors indicate missing commas or quotes\n",
    "# attribute errors indicate the df_name item is not a DataFrame object"
   ]
  },
  {
   "cell_type": "markdown",
   "metadata": {},
   "source": [
    "### Gathered some data to help determine best teams. Found list of post season games and restricted it to winners. The count of each team will give number of playoff appearances. In getting and merging data, I found date/year/season may be a simple year meaning the Season from in the csv below. date/year/season may also be 1970-71, 1970-1, or even 1970-1971."
   ]
  },
  {
   "cell_type": "code",
   "execution_count": 64,
   "metadata": {},
   "outputs": [
    {
     "data": {
      "text/html": [
       "<div>\n",
       "<style scoped>\n",
       "    .dataframe tbody tr th:only-of-type {\n",
       "        vertical-align: middle;\n",
       "    }\n",
       "\n",
       "    .dataframe tbody tr th {\n",
       "        vertical-align: top;\n",
       "    }\n",
       "\n",
       "    .dataframe thead th {\n",
       "        text-align: right;\n",
       "    }\n",
       "</style>\n",
       "<table border=\"1\" class=\"dataframe\">\n",
       "  <thead>\n",
       "    <tr style=\"text-align: right;\">\n",
       "      <th></th>\n",
       "      <th>sequence</th>\n",
       "      <th>Season from</th>\n",
       "      <th>Season to</th>\n",
       "      <th>Winner</th>\n",
       "      <th>Winning Score</th>\n",
       "      <th>Losing Score</th>\n",
       "      <th>Score Differential</th>\n",
       "      <th>Overtime</th>\n",
       "      <th>Field Goal or Less</th>\n",
       "      <th>Super Bowl Appearances</th>\n",
       "      <th>Division</th>\n",
       "      <th>Game Rank</th>\n",
       "      <th>Date</th>\n",
       "    </tr>\n",
       "  </thead>\n",
       "  <tbody>\n",
       "    <tr>\n",
       "      <th>0</th>\n",
       "      <td>0</td>\n",
       "      <td>1970</td>\n",
       "      <td>1971</td>\n",
       "      <td>Baltimore Colts</td>\n",
       "      <td>17</td>\n",
       "      <td>0</td>\n",
       "      <td>17</td>\n",
       "      <td>0</td>\n",
       "      <td>False</td>\n",
       "      <td>2</td>\n",
       "      <td>AFC</td>\n",
       "      <td>playoff</td>\n",
       "      <td>NaN</td>\n",
       "    </tr>\n",
       "    <tr>\n",
       "      <th>1</th>\n",
       "      <td>1</td>\n",
       "      <td>1970</td>\n",
       "      <td>1971</td>\n",
       "      <td>Oakland Raiders</td>\n",
       "      <td>21</td>\n",
       "      <td>14</td>\n",
       "      <td>7</td>\n",
       "      <td>0</td>\n",
       "      <td>False</td>\n",
       "      <td>5</td>\n",
       "      <td>AFC</td>\n",
       "      <td>playoff</td>\n",
       "      <td>NaN</td>\n",
       "    </tr>\n",
       "    <tr>\n",
       "      <th>2</th>\n",
       "      <td>2</td>\n",
       "      <td>1971</td>\n",
       "      <td>1972</td>\n",
       "      <td>Miami Dolphins</td>\n",
       "      <td>27</td>\n",
       "      <td>24</td>\n",
       "      <td>3</td>\n",
       "      <td>2</td>\n",
       "      <td>True</td>\n",
       "      <td>5</td>\n",
       "      <td>AFC</td>\n",
       "      <td>playoff</td>\n",
       "      <td>NaN</td>\n",
       "    </tr>\n",
       "    <tr>\n",
       "      <th>3</th>\n",
       "      <td>3</td>\n",
       "      <td>1971</td>\n",
       "      <td>1972</td>\n",
       "      <td>Baltimore Colts</td>\n",
       "      <td>20</td>\n",
       "      <td>3</td>\n",
       "      <td>17</td>\n",
       "      <td>0</td>\n",
       "      <td>False</td>\n",
       "      <td>2</td>\n",
       "      <td>AFC</td>\n",
       "      <td>playoff</td>\n",
       "      <td>NaN</td>\n",
       "    </tr>\n",
       "    <tr>\n",
       "      <th>4</th>\n",
       "      <td>4</td>\n",
       "      <td>1972</td>\n",
       "      <td>1973</td>\n",
       "      <td>Pittsburgh Steelers</td>\n",
       "      <td>13</td>\n",
       "      <td>7</td>\n",
       "      <td>6</td>\n",
       "      <td>0</td>\n",
       "      <td>False</td>\n",
       "      <td>8</td>\n",
       "      <td>AFC</td>\n",
       "      <td>playoff</td>\n",
       "      <td>NaN</td>\n",
       "    </tr>\n",
       "    <tr>\n",
       "      <th>5</th>\n",
       "      <td>5</td>\n",
       "      <td>1972</td>\n",
       "      <td>1973</td>\n",
       "      <td>Miami Dolphins</td>\n",
       "      <td>20</td>\n",
       "      <td>14</td>\n",
       "      <td>6</td>\n",
       "      <td>0</td>\n",
       "      <td>False</td>\n",
       "      <td>5</td>\n",
       "      <td>AFC</td>\n",
       "      <td>playoff</td>\n",
       "      <td>NaN</td>\n",
       "    </tr>\n",
       "    <tr>\n",
       "      <th>6</th>\n",
       "      <td>6</td>\n",
       "      <td>1973</td>\n",
       "      <td>1974</td>\n",
       "      <td>Oakland Raiders</td>\n",
       "      <td>33</td>\n",
       "      <td>14</td>\n",
       "      <td>19</td>\n",
       "      <td>0</td>\n",
       "      <td>False</td>\n",
       "      <td>5</td>\n",
       "      <td>AFC</td>\n",
       "      <td>playoff</td>\n",
       "      <td>NaN</td>\n",
       "    </tr>\n",
       "    <tr>\n",
       "      <th>7</th>\n",
       "      <td>7</td>\n",
       "      <td>1973</td>\n",
       "      <td>1974</td>\n",
       "      <td>Miami Dolphins</td>\n",
       "      <td>34</td>\n",
       "      <td>16</td>\n",
       "      <td>18</td>\n",
       "      <td>0</td>\n",
       "      <td>False</td>\n",
       "      <td>5</td>\n",
       "      <td>AFC</td>\n",
       "      <td>playoff</td>\n",
       "      <td>NaN</td>\n",
       "    </tr>\n",
       "    <tr>\n",
       "      <th>8</th>\n",
       "      <td>8</td>\n",
       "      <td>1974</td>\n",
       "      <td>1975</td>\n",
       "      <td>Oakland Raiders</td>\n",
       "      <td>28</td>\n",
       "      <td>26</td>\n",
       "      <td>2</td>\n",
       "      <td>0</td>\n",
       "      <td>True</td>\n",
       "      <td>5</td>\n",
       "      <td>AFC</td>\n",
       "      <td>playoff</td>\n",
       "      <td>NaN</td>\n",
       "    </tr>\n",
       "    <tr>\n",
       "      <th>9</th>\n",
       "      <td>9</td>\n",
       "      <td>1974</td>\n",
       "      <td>1975</td>\n",
       "      <td>Pittsburgh Steelers</td>\n",
       "      <td>32</td>\n",
       "      <td>14</td>\n",
       "      <td>18</td>\n",
       "      <td>0</td>\n",
       "      <td>False</td>\n",
       "      <td>8</td>\n",
       "      <td>AFC</td>\n",
       "      <td>playoff</td>\n",
       "      <td>NaN</td>\n",
       "    </tr>\n",
       "    <tr>\n",
       "      <th>10</th>\n",
       "      <td>10</td>\n",
       "      <td>1975</td>\n",
       "      <td>1976</td>\n",
       "      <td>Pittsburgh Steelers</td>\n",
       "      <td>28</td>\n",
       "      <td>10</td>\n",
       "      <td>18</td>\n",
       "      <td>0</td>\n",
       "      <td>False</td>\n",
       "      <td>8</td>\n",
       "      <td>AFC</td>\n",
       "      <td>playoff</td>\n",
       "      <td>NaN</td>\n",
       "    </tr>\n",
       "  </tbody>\n",
       "</table>\n",
       "</div>"
      ],
      "text/plain": [
       "    sequence  Season from  Season to               Winner  Winning Score  \\\n",
       "0          0         1970       1971      Baltimore Colts             17   \n",
       "1          1         1970       1971      Oakland Raiders             21   \n",
       "2          2         1971       1972       Miami Dolphins             27   \n",
       "3          3         1971       1972      Baltimore Colts             20   \n",
       "4          4         1972       1973  Pittsburgh Steelers             13   \n",
       "5          5         1972       1973       Miami Dolphins             20   \n",
       "6          6         1973       1974      Oakland Raiders             33   \n",
       "7          7         1973       1974       Miami Dolphins             34   \n",
       "8          8         1974       1975      Oakland Raiders             28   \n",
       "9          9         1974       1975  Pittsburgh Steelers             32   \n",
       "10        10         1975       1976  Pittsburgh Steelers             28   \n",
       "\n",
       "    Losing Score  Score Differential  Overtime  Field Goal or Less  \\\n",
       "0              0                  17         0               False   \n",
       "1             14                   7         0               False   \n",
       "2             24                   3         2                True   \n",
       "3              3                  17         0               False   \n",
       "4              7                   6         0               False   \n",
       "5             14                   6         0               False   \n",
       "6             14                  19         0               False   \n",
       "7             16                  18         0               False   \n",
       "8             26                   2         0                True   \n",
       "9             14                  18         0               False   \n",
       "10            10                  18         0               False   \n",
       "\n",
       "    Super Bowl Appearances Division Game Rank Date  \n",
       "0                        2      AFC   playoff  NaN  \n",
       "1                        5      AFC   playoff  NaN  \n",
       "2                        5      AFC   playoff  NaN  \n",
       "3                        2      AFC   playoff  NaN  \n",
       "4                        8      AFC   playoff  NaN  \n",
       "5                        5      AFC   playoff  NaN  \n",
       "6                        5      AFC   playoff  NaN  \n",
       "7                        5      AFC   playoff  NaN  \n",
       "8                        5      AFC   playoff  NaN  \n",
       "9                        8      AFC   playoff  NaN  \n",
       "10                       8      AFC   playoff  NaN  "
      ]
     },
     "execution_count": 64,
     "metadata": {},
     "output_type": "execute_result"
    }
   ],
   "source": [
    "# Create dataframe from csv - This csv is the list of winners of post season NFL games 1970-2021.\n",
    "winners_data = \"dataFiles/Post_season_NFL_winners_1971_2021.csv\"\n",
    "winners_df = pd.read_csv(winners_data)\n",
    "winners_df.head(11)"
   ]
  },
  {
   "cell_type": "markdown",
   "metadata": {},
   "source": [
    "### Test the function - this graph is meaningless but demonstrates the function as a quick check for any possible relationship between two numerical columns of a dataframe."
   ]
  },
  {
   "cell_type": "code",
   "execution_count": 51,
   "metadata": {},
   "outputs": [
    {
     "data": {
      "image/png": "[encoded data removed]",
      "text/plain": [
       "<Figure size 432x288 with 1 Axes>"
      ]
     },
     "metadata": {
      "needs_background": "light"
     },
     "output_type": "display_data"
    }
   ],
   "source": [
    "#sbc_plot_scatter(winners_df,'Winning Score','Super Bowl Appearances','Test','test_file') - Shows single and double quote.\n",
    "#                                                                                           mixing quotes gives syntax error\n",
    "sbc_plot_scatter(winners_df,\"Winning Score\",\"Super Bowl Appearances\",\"Test\",\"test_file\")"
   ]
  },
  {
   "cell_type": "code",
   "execution_count": 52,
   "metadata": {},
   "outputs": [],
   "source": [
    "#gather data - Use API or import files and convert to dataframe - .txt, .csv, Excel, json, .py, I can line out steps to process\n",
    "#                                                                 into dataframe\n",
    "#ADD your url\n",
    "#ADD your filepath (remember to push your file to the branch)"
   ]
  },
  {
   "cell_type": "markdown",
   "metadata": {},
   "source": [
    "## CLEAN DATA"
   ]
  },
  {
   "cell_type": "code",
   "execution_count": null,
   "metadata": {},
   "outputs": [],
   "source": []
  },
  {
   "cell_type": "markdown",
   "metadata": {},
   "source": [
    "## PROCESS DATA"
   ]
  },
  {
   "cell_type": "code",
   "execution_count": null,
   "metadata": {},
   "outputs": [],
   "source": []
  },
  {
   "cell_type": "markdown",
   "metadata": {},
   "source": [
    "## ANALYZE RESULTS"
   ]
  },
  {
   "cell_type": "code",
   "execution_count": null,
   "metadata": {},
   "outputs": [],
   "source": []
  },
  {
   "cell_type": "markdown",
   "metadata": {},
   "source": [
    "## DETERMINE TRENDS"
   ]
  },
  {
   "cell_type": "code",
   "execution_count": null,
   "metadata": {},
   "outputs": [],
   "source": []
  },
  {
   "cell_type": "markdown",
   "metadata": {},
   "source": [
    "## COMPILE CONCLUSIONS"
   ]
  },
  {
   "cell_type": "code",
   "execution_count": null,
   "metadata": {},
   "outputs": [],
   "source": []
  },
  {
   "cell_type": "markdown",
   "metadata": {},
   "source": [
    "## FORMULATE RECOMMENDATIONS"
   ]
  },
  {
   "cell_type": "code",
   "execution_count": null,
   "metadata": {},
   "outputs": [],
   "source": []
  },
  {
   "cell_type": "markdown",
   "metadata": {},
   "source": [
    "### Summary"
   ]
  },
  {
   "cell_type": "code",
   "execution_count": null,
   "metadata": {},
   "outputs": [],
   "source": []
  },
  {
   "cell_type": "code",
   "execution_count": null,
   "metadata": {},
   "outputs": [],
   "source": []
  },
  {
   "cell_type": "code",
   "execution_count": null,
   "metadata": {},
   "outputs": [],
   "source": []
  },
  {
   "cell_type": "code",
   "execution_count": null,
   "metadata": {},
   "outputs": [],
   "source": []
  }
 ],
 "metadata": {
  "kernelspec": {
   "display_name": "Python 3",
   "language": "python",
   "name": "python3"
  },
  "language_info": {
   "codemirror_mode": {
    "name": "ipython",
    "version": 3
   },
   "file_extension": ".py",
   "mimetype": "text/x-python",
   "name": "python",
   "nbconvert_exporter": "python",
   "pygments_lexer": "ipython3",
   "version": "3.8.5"
  }
 },
 "nbformat": 4,
 "nbformat_minor": 4
}
